{
 "cells": [
  {
   "cell_type": "code",
   "execution_count": 10,
   "metadata": {},
   "outputs": [
    {
     "data": {
      "text/plain": [
       "[[1, 2, 3, 4],\n",
       " [2, 1, 3, 4],\n",
       " [3, 1, 2, 4],\n",
       " [1, 3, 2, 4],\n",
       " [2, 3, 1, 4],\n",
       " [3, 2, 1, 4],\n",
       " [4, 2, 1, 3],\n",
       " [2, 4, 1, 3],\n",
       " [1, 4, 2, 3],\n",
       " [4, 1, 2, 3],\n",
       " [2, 1, 4, 3],\n",
       " [1, 2, 4, 3],\n",
       " [1, 3, 4, 2],\n",
       " [3, 1, 4, 2],\n",
       " [4, 1, 3, 2],\n",
       " [1, 4, 3, 2],\n",
       " [3, 4, 1, 2],\n",
       " [4, 3, 1, 2],\n",
       " [4, 3, 2, 1],\n",
       " [3, 4, 2, 1],\n",
       " [2, 4, 3, 1],\n",
       " [4, 2, 3, 1],\n",
       " [3, 2, 4, 1],\n",
       " [2, 3, 4, 1]]"
      ]
     },
     "execution_count": 10,
     "metadata": {},
     "output_type": "execute_result"
    }
   ],
   "source": [
    "arr=[1,2,3,4]\n",
    "result=[arr[:]]\n",
    "c=[0]*len(arr)\n",
    "i=  0\n",
    "while i< len(arr):\n",
    "    if c[i] < i:\n",
    "        if i%2 ==0:\n",
    "            arr[0],arr[i] = arr[i], arr[0]\n",
    "        else:\n",
    "            arr[c[i]],arr[i] = arr[i] , arr[c[i]]\n",
    "        result.append(arr[:])\n",
    "        c[i] +=1\n",
    "        i = 0\n",
    "    else:\n",
    "        c[i] = 0\n",
    "        i+=1\n",
    "result"
   ]
  },
  {
   "cell_type": "code",
   "execution_count": 6,
   "metadata": {},
   "outputs": [
    {
     "data": {
      "text/plain": [
       "[0, 0, 0, 0, 0]"
      ]
     },
     "execution_count": 6,
     "metadata": {},
     "output_type": "execute_result"
    }
   ],
   "source": []
  }
 ],
 "metadata": {
  "kernelspec": {
   "display_name": "Python 3",
   "language": "python",
   "name": "python3"
  },
  "language_info": {
   "codemirror_mode": {
    "name": "ipython",
    "version": 3
   },
   "file_extension": ".py",
   "mimetype": "text/x-python",
   "name": "python",
   "nbconvert_exporter": "python",
   "pygments_lexer": "ipython3",
   "version": "3.7.1"
  }
 },
 "nbformat": 4,
 "nbformat_minor": 2
}
