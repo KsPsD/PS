{
 "cells": [
  {
   "cell_type": "markdown",
   "metadata": {},
   "source": [
    "# 일곱난쟁이"
   ]
  },
  {
   "cell_type": "code",
   "execution_count": null,
   "metadata": {},
   "outputs": [],
   "source": [
    "import sys\n",
    "def dfs(cnt, idx):\n",
    "    \n",
    "    if cnt==7:\n",
    "        res,ans=0,[]\n",
    "        for i in range(9):\n",
    "            if ch[i]:\n",
    "                res+=a[i]\n",
    "                ans.append(a[i])\n",
    "                \n",
    "        if res==100:\n",
    "            ans.sort()\n",
    "            for s in ans:\n",
    "                print(s)\n",
    "            sys.exit()        \n",
    "        return\n",
    "    \n",
    "    for i in range(idx,9):\n",
    "        ch[i]=1\n",
    "        dfs(cnt+1,i+1)\n",
    "        ch[i]=0\n",
    "        \n",
    "        \n",
    "a=[]\n",
    "a=list(map(int, input().split()))\n",
    "    \n",
    "ch=[0 for _ in range(9)]\n",
    "dfs(0,0)"
   ]
  },
  {
   "cell_type": "code",
   "execution_count": null,
   "metadata": {},
   "outputs": [],
   "source": [
    "import sys\n",
    "\n",
    "\n",
    "def dfs(cnt, idx):\n",
    "    if cnt == 7:\n",
    "        res, ans = 0, []\n",
    "        for i in range(9):\n",
    "            if select[i]:\n",
    "                res += a[i]\n",
    "                ans.append(a[i])\n",
    "        if res == 100:\n",
    "            ans.sort()\n",
    "            for s in ans:\n",
    "                print(s)\n",
    "            return\n",
    "        return\n",
    "\n",
    "    for i in range(idx, 9):\n",
    "        select[i] = 1\n",
    "        dfs(cnt + 1, i + 1)\n",
    "        select[i] = 0\n",
    "\n",
    "\n",
    "a = list(map(int, input().split()))\n",
    "\n",
    "select = [0 for _ in range(9)]\n",
    "dfs(0, 0)\n",
    "print(a)\n"
   ]
  },
  {
   "cell_type": "markdown",
   "metadata": {},
   "source": [
    "# sort 종류별로 구현"
   ]
  },
  {
   "cell_type": "code",
   "execution_count": null,
   "metadata": {},
   "outputs": [],
   "source": [
    "arr=[5,7,2,6,10,1]"
   ]
  },
  {
   "cell_type": "code",
   "execution_count": null,
   "metadata": {},
   "outputs": [],
   "source": [
    "def bubble(arr):\n",
    "    for i in range(len(arr)):\n",
    "        for j in range(i,len(arr)-1):\n",
    "            if(arr[j+1]< arr[j]):\n",
    "                arr[j+1],arr[j] = arr[j], arr[j+1]\n",
    "def bubble_reverse(arr):\n",
    "    for i in range(len(arr)-1):\n",
    "        for j in range(len(arr)-2,0,-1 ):\n",
    "            if(arr[j+1]< arr[j]):\n",
    "                arr[j+1],arr[j] = arr[j+1],arr[j]\n",
    "    "
   ]
  },
  {
   "cell_type": "code",
   "execution_count": null,
   "metadata": {},
   "outputs": [],
   "source": [
    "def selection(arr):\n",
    "    n=len(arr)\n",
    "    for i in range(n-1):\n",
    "        min = i\n",
    "        for j in range(i+1,n):\n",
    "            if(arr[j]<arr[min]):\n",
    "                min=j\n",
    "        arr[i],arr[min]  = arr[min], arr[i]"
   ]
  },
  {
   "cell_type": "code",
   "execution_count": null,
   "metadata": {},
   "outputs": [],
   "source": [
    "def insertion(arr):\n",
    "    n=len(arr)\n",
    "    for i in range(1,n):\n",
    "        j=i\n",
    "        tmp=arr[i]\n",
    "        while j>0 and arr[j-1]>tmp:\n",
    "            arr[j] = arr[j-1]\n",
    "            j-=1\n",
    "        arr[j] = tmp\n"
   ]
  },
  {
   "cell_type": "code",
   "execution_count": null,
   "metadata": {},
   "outputs": [],
   "source": [
    "def binary_insertion(a):\n",
    "    n=len(arr)\n",
    "    for i in range(1,n):\n",
    "        key=a[i]\n",
    "        pl=0\n",
    "        pr=i-1\n",
    "        \n",
    "        while 1:\n",
    "            mid = (pl+pr)//2\n",
    "            if a[mid] == key:\n",
    "                break\n",
    "            elif a[mid]<key:\n",
    "                pl=mid+1\n",
    "            else:\n",
    "                pr=mid+1\n",
    "            if pl>pr:\n",
    "                break\n",
    "        pd = mid+1 if pl<=pr else pr+1\n",
    "        \n",
    "        for j in range(i,pd-1):\n",
    "            a[j] = a[j-1]\n",
    "        a[pd]= key"
   ]
  },
  {
   "cell_type": "code",
   "execution_count": null,
   "metadata": {},
   "outputs": [],
   "source": [
    "binary_insertion(arr)\n",
    "arr"
   ]
  },
  {
   "cell_type": "code",
   "execution_count": null,
   "metadata": {},
   "outputs": [],
   "source": [
    "insertion(arr)\n",
    "arr"
   ]
  },
  {
   "cell_type": "code",
   "execution_count": null,
   "metadata": {},
   "outputs": [],
   "source": [
    "def binary_insertion(a):\n",
    "    n = len(arr)\n",
    "    for i in range(1, n):\n",
    "        key = a[i]\n",
    "        pl = 0\n",
    "        pr = i-1\n",
    "\n",
    "        while True:\n",
    "            mid = (pl+pr)//2\n",
    "            if a[mid] == key:\n",
    "                break\n",
    "            elif a[mid] < key:\n",
    "                pl = mid+1\n",
    "            else:\n",
    "                pr = mid-1\n",
    "            if pl > pr:\n",
    "                break\n",
    "        pd = mid+1 if pl <= pr else pr+1\n",
    "\n",
    "        for j in range(i, pd, -1):\n",
    "            a[j] = a[j-1]\n",
    "        a[pd] = key\n",
    "\n",
    "\n",
    "n = int(input())\n",
    "arr = [int(input()) for _ in range(n)]\n",
    "\n",
    "binary_insertion(arr)\n",
    "print(*arr, sep='\\n')\n"
   ]
  },
  {
   "cell_type": "code",
   "execution_count": null,
   "metadata": {},
   "outputs": [],
   "source": [
    "def shell_sort(arr):\n",
    "    n=len(a)\n",
    "    h=n//2\n",
    "    while h>0:\n",
    "        for i in range(h,n): \n",
    "            j=i-h\n",
    "            tmp =a[i]\n",
    "            while j>=0 and a[j] >tmp:\n",
    "                a[j+h] =a[j]\n",
    "                j-=h\n",
    "            a[j+h] =tmp\n",
    "        h//=2\n",
    "        \n",
    "#이거 하면서 헷갈린것 --> 원래는 각 부분 배열에서 gap 만큼 증가 하면서 갭 전꺼랑 바꿔 줘야 된다고 생각해서\n",
    "#i를 gap만큼 증가해야 되지 않나 라고 생각했는데 지금 보니까 그냥 i는 1씩 증가하고 그 i 값에서 gap 만큼 뺀 값들을 \n",
    "#j for문에서 비교 해주는 것임 그러면 예를들면 8이면 4인덱스 부터 시작해서 첫 부분 배열을 다 돌고 갭이 2일때도 똑같음\n",
    "#이렇게 짜면 좀 다름 부분 배열별로 도는게 아니라 그냥 나눈 기준에서 1칸씩 가면서 한번에 다봄"
   ]
  },
  {
   "cell_type": "code",
   "execution_count": 80,
   "metadata": {},
   "outputs": [],
   "source": [
    "def qsort(arr,lt,rt):\n",
    "    pl =lt\n",
    "    pr =rt\n",
    "    x=arr[(lt+rt)//2]\n",
    "    \n",
    "    while pl<=pr:\n",
    "        while arr[pl] <x :pl+=1\n",
    "        while arr[pr] >x : pr-=1\n",
    "        if pl<=pr:\n",
    "            arr[pl],arr[pr] = arr[pr], arr[pl]\n",
    "            pl+=1\n",
    "            pr-=1\n",
    "            \n",
    "        \n",
    "    if lt < pr: qsort(arr,lt,pr)\n",
    "    if pl< rt: qsort(arr , pl,rt)\n",
    "    \n",
    "    "
   ]
  },
  {
   "cell_type": "code",
   "execution_count": 81,
   "metadata": {},
   "outputs": [
    {
     "data": {
      "text/plain": [
       "[2, 3, 4, 5, 7, 9, 10, 12]"
      ]
     },
     "execution_count": 81,
     "metadata": {},
     "output_type": "execute_result"
    }
   ],
   "source": [
    "qsort(arr, 0,len(arr)-1)\n",
    "arr"
   ]
  },
  {
   "cell_type": "code",
   "execution_count": null,
   "metadata": {},
   "outputs": [],
   "source": [
    "def cmp(x,y):\n",
    "    return x < y\n",
    "\n",
    "\n",
    "def sort(low, high):\n",
    "    if high - low < 2:\n",
    "        return\n",
    "    mid = (low + high) // 2\n",
    "    sort(low, mid)\n",
    "    sort(mid, high)\n",
    "    temp = []\n",
    "    l, h = low, mid\n",
    "\n",
    "    while l < mid and h < high:\n",
    "        if len(arr[l]) < len(arr[h]):\n",
    "            temp.append(arr[l])\n",
    "            l += 1\n",
    "        elif len(arr[l]) > len(arr[h]):\n",
    "            temp.append(arr[h])\n",
    "            h += 1\n",
    "        else:\n",
    "            if cmp(arr[l], arr[h])== True:\n",
    "                temp.append(arr[l])\n",
    "                l+=1\n",
    "            else:\n",
    "                temp.append(arr[h])\n",
    "                h+=1\n",
    "            \n",
    "        \n",
    "    while l < mid:\n",
    "        temp.append(arr[l])\n",
    "        l += 1\n",
    "    while h < high:\n",
    "        temp.append(arr[h])\n",
    "        h += 1\n",
    "        \n",
    "    for i in range(low, high):\n",
    "        arr[i] = temp[i - low]\n",
    "        \n",
    "        \n",
    "def merge_sort(arr):\n",
    "    return sort(0, len(arr))"
   ]
  },
  {
   "cell_type": "code",
   "execution_count": null,
   "metadata": {},
   "outputs": [],
   "source": [
    "sarr=[\"but\",\"i\",\n",
    "\"wont\",\n",
    "\"hesitate\",\n",
    "\"no\",\n",
    "\"more\",\n",
    "\"no\",\n",
    "\"more\",\n",
    "\"it\",\n",
    "\"cannot\",\n",
    "\"wait\",\n",
    "\"im\",\n",
    "\"yours\",\"qq\",\"asfsadg\"]\n",
    "print(sarr)"
   ]
  },
  {
   "cell_type": "code",
   "execution_count": null,
   "metadata": {},
   "outputs": [],
   "source": [
    "merge_sort(arr)\n",
    "arr"
   ]
  },
  {
   "cell_type": "code",
   "execution_count": null,
   "metadata": {},
   "outputs": [],
   "source": [
    "import heapq\n",
    "heap=[]\n",
    "heapq.heappush(heap,(-3,3))\n",
    "heapq.heappush(heap,(-7,7))\n",
    "heapq.heappush(heap,(-23,23))\n",
    "heapq.heappush(heap,(-10,10))"
   ]
  },
  {
   "cell_type": "code",
   "execution_count": null,
   "metadata": {},
   "outputs": [],
   "source": [
    "print(heap)"
   ]
  },
  {
   "cell_type": "code",
   "execution_count": null,
   "metadata": {},
   "outputs": [],
   "source": [
    "lens=len(heap)\n",
    "lens"
   ]
  },
  {
   "cell_type": "code",
   "execution_count": null,
   "metadata": {},
   "outputs": [],
   "source": [
    "for _ in range(3):\n",
    "    print(heapq.heappop(heap))"
   ]
  },
  {
   "cell_type": "code",
   "execution_count": null,
   "metadata": {},
   "outputs": [],
   "source": [
    "\n",
    "def heapsort(iterable):\n",
    "    h = []\n",
    "    result = []\n",
    "    # 모든 원소를 차례대로 힙에 삽입 (부호 반대로)\n",
    "    for value in iterable:\n",
    "        heapq.heappush(h, -value)\n",
    "    # 힙에 삽입된 모든 원소를 차례대로 꺼내어 담기 (부호 다시 뒤집어서)\n",
    "    for i in range(len(h)):\n",
    "        result.append(-(heapq.heappop(h)))\n",
    "    return result\n",
    "\n",
    "result = heapsort([1, 3, 5, 7, 9, 2, 4, 6, 8, 0])\n",
    "print(result)"
   ]
  },
  {
   "cell_type": "code",
   "execution_count": null,
   "metadata": {},
   "outputs": [],
   "source": [
    "from collections import *\n",
    "lst = [1, 2, 3, 3, 2, 1, 1, 1, 2, 2, 3, 1, 2, 1, 1]\n",
    "counter = Counter(lst)\n",
    "print(counter)"
   ]
  },
  {
   "cell_type": "code",
   "execution_count": 78,
   "metadata": {},
   "outputs": [],
   "source": [
    "def heap_sort(a):\n",
    "    \n",
    "    def down_heap(a,root, size):\n",
    "        tmp = a[root]\n",
    "        current = root #이 부분이 무슨 말이나면 n-1이 마지막 노드인데 그거의 부모 이하 나 미만으로 설정해야됨\n",
    "        while current < (size+1)//2:#가장 마지막 부모 미만인 조건인데 원래는 <=(size-1)//2 우리가 아는 코드 이렇게 이하로 짜는거\n",
    "            cl =current*2+1\n",
    "            cr = cl+1\n",
    "            child = cr  if cr<=size and a[cr] > a[cl] else cl\n",
    "            if tmp>=a[child]:break\n",
    "            a[current] =a[child]\n",
    "            current= child\n",
    "        a[current] = tmp\n",
    "    n =len(a)\n",
    "    \n",
    "    for i in range((n-1)//2,-1,-1):\n",
    "        down_heap(a,i,n-1)\n",
    "        \n",
    "        \n",
    "    for i in range(n-1, 0,-1):\n",
    "        a[0],a[i] = a[i],a[0]\n",
    "        down_heap(a,0,i-1)"
   ]
  },
  {
   "cell_type": "code",
   "execution_count": 79,
   "metadata": {},
   "outputs": [
    {
     "data": {
      "text/plain": [
       "[2, 3, 4, 5, 7, 9, 10, 12]"
      ]
     },
     "execution_count": 79,
     "metadata": {},
     "output_type": "execute_result"
    }
   ],
   "source": [
    "arr=[5,3,2,9,4,10,12,7]\n",
    "heap_sort(arr)\n",
    "arr"
   ]
  },
  {
   "cell_type": "code",
   "execution_count": 20,
   "metadata": {},
   "outputs": [
    {
     "ename": "ValueError",
     "evalue": "invalid literal for int() with base 10: ''",
     "output_type": "error",
     "traceback": [
      "\u001b[1;31m---------------------------------------------------------------------------\u001b[0m",
      "\u001b[1;31mValueError\u001b[0m                                Traceback (most recent call last)",
      "\u001b[1;32m<ipython-input-20-f79298a4a36a>\u001b[0m in \u001b[0;36m<module>\u001b[1;34m\u001b[0m\n\u001b[0;32m     14\u001b[0m \u001b[1;33m\u001b[0m\u001b[0m\n\u001b[0;32m     15\u001b[0m \u001b[0mdp\u001b[0m\u001b[1;33m=\u001b[0m\u001b[1;33m[\u001b[0m\u001b[1;36m0\u001b[0m\u001b[1;33m]\u001b[0m\u001b[1;33m*\u001b[0m\u001b[1;36m11\u001b[0m\u001b[1;33m\u001b[0m\u001b[1;33m\u001b[0m\u001b[0m\n\u001b[1;32m---> 16\u001b[1;33m \u001b[0mt\u001b[0m \u001b[1;33m=\u001b[0m \u001b[0mint\u001b[0m\u001b[1;33m(\u001b[0m\u001b[0msys\u001b[0m\u001b[1;33m.\u001b[0m\u001b[0mstdin\u001b[0m\u001b[1;33m.\u001b[0m\u001b[0mreadline\u001b[0m\u001b[1;33m(\u001b[0m\u001b[1;33m)\u001b[0m\u001b[1;33m.\u001b[0m\u001b[0mstrip\u001b[0m\u001b[1;33m(\u001b[0m\u001b[1;33m)\u001b[0m\u001b[1;33m)\u001b[0m\u001b[1;33m\u001b[0m\u001b[1;33m\u001b[0m\u001b[0m\n\u001b[0m\u001b[0;32m     17\u001b[0m \u001b[1;33m\u001b[0m\u001b[0m\n\u001b[0;32m     18\u001b[0m \u001b[1;33m\u001b[0m\u001b[0m\n",
      "\u001b[1;31mValueError\u001b[0m: invalid literal for int() with base 10: ''"
     ]
    }
   ],
   "source": [
    "def go(num):\n",
    "    if num==1:\n",
    "        return 1\n",
    "    elif num==2:\n",
    "        return 2\n",
    "    elif num==3:\n",
    "        return 4\n",
    "    if dp[num]!=0:\n",
    "        return dp[num]\n",
    "\n",
    "    return go(num-1)+ go(num-2)+go(num-3)\n",
    "    \n",
    "        \n",
    "\n",
    "dp=[0]*11\n",
    "t = int(sys.stdin.readline().strip())\n",
    "\n",
    "\n",
    "for _ in range(t):\n",
    "    x=int(input())\n",
    "    print(go(x))"
   ]
  },
  {
   "cell_type": "code",
   "execution_count": 25,
   "metadata": {},
   "outputs": [
    {
     "ename": "ValueError",
     "evalue": "invalid literal for int() with base 10: ''",
     "output_type": "error",
     "traceback": [
      "\u001b[1;31m---------------------------------------------------------------------------\u001b[0m",
      "\u001b[1;31mValueError\u001b[0m                                Traceback (most recent call last)",
      "\u001b[1;32m<ipython-input-25-7e54b8591e52>\u001b[0m in \u001b[0;36m<module>\u001b[1;34m\u001b[0m\n\u001b[1;32m----> 1\u001b[1;33m \u001b[0mt\u001b[0m \u001b[1;33m=\u001b[0m \u001b[0mint\u001b[0m\u001b[1;33m(\u001b[0m\u001b[0msys\u001b[0m\u001b[1;33m.\u001b[0m\u001b[0mstdin\u001b[0m\u001b[1;33m.\u001b[0m\u001b[0mreadline\u001b[0m\u001b[1;33m(\u001b[0m\u001b[1;33m)\u001b[0m\u001b[1;33m.\u001b[0m\u001b[0mstrip\u001b[0m\u001b[1;33m(\u001b[0m\u001b[1;33m)\u001b[0m\u001b[1;33m)\u001b[0m\u001b[1;33m\u001b[0m\u001b[1;33m\u001b[0m\u001b[0m\n\u001b[0m",
      "\u001b[1;31mValueError\u001b[0m: invalid literal for int() with base 10: ''"
     ]
    }
   ],
   "source": [
    "t = int(sys.stdin.readline().strip())"
   ]
  },
  {
   "cell_type": "code",
   "execution_count": 37,
   "metadata": {},
   "outputs": [
    {
     "name": "stdout",
     "output_type": "stream",
     "text": [
      "4\n",
      "123 1 1\n",
      "356 1 0\n",
      "327 2 0\n",
      "489 0 1\n",
      "0\n"
     ]
    }
   ],
   "source": [
    "n=int(input())\n",
    "ch=[0]*1000\n",
    "for i in range(123,1000):\n",
    "    num = str(i)\n",
    "    if '0' in num or (num[0]==num[1] or num[1]==num[2] or num[0]==num[2]):\n",
    "        ch[i]=1\n",
    "    \n",
    "for _ in range(n):\n",
    "    num, s,b= map(int,input().split())\n",
    "    for i in range(123,1000):\n",
    "        target=str(num)\n",
    "        cur_num =str(i)\n",
    "        cur_s=0\n",
    "        cur_b=0\n",
    "        if ch[i]==0:\n",
    "            for a in range(3):\n",
    "                for b in range(3):\n",
    "                    if a==b and target[a]==cur_num[b]:\n",
    "                        cur_s+=1\n",
    "                    elif a!=b and target[a]== cur_num[b]:\n",
    "                        cur_b+=1\n",
    "            \n",
    "            if cur_s!=s or cur_b!=b:\n",
    "                ch[i]=1\n",
    "                \n",
    "ans=0\n",
    "for i in range(123,1000):\n",
    "    if ch[i]==0:\n",
    "        ans+=1\n",
    "print(ans)\n",
    "            "
   ]
  }
 ],
 "metadata": {
  "kernelspec": {
   "display_name": "Python 3.7.1 64-bit ('base': conda)",
   "language": "python",
   "name": "python37164bitbasecondadc1726059c35491ea580f7afc0669efc"
  },
  "language_info": {
   "codemirror_mode": {
    "name": "ipython",
    "version": 3
   },
   "file_extension": ".py",
   "mimetype": "text/x-python",
   "name": "python",
   "nbconvert_exporter": "python",
   "pygments_lexer": "ipython3",
   "version": "3.7.1"
  }
 },
 "nbformat": 4,
 "nbformat_minor": 2
}
